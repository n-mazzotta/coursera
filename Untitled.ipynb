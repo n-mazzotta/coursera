{
 "cells": [
  {
   "cell_type": "code",
   "execution_count": 1,
   "metadata": {},
   "outputs": [],
   "source": [
    "#pip install --upgrade google-cloud-bigquery[pandas]"
   ]
  },
  {
   "cell_type": "code",
   "execution_count": 2,
   "metadata": {},
   "outputs": [],
   "source": [
    "import os\n",
    "from google.cloud import bigquery\n",
    "from sklearn.linear_model import LogisticRegression\n",
    "from sklearn.model_selection import train_test_split\n",
    "os.environ['GOOGLE_APPLICATION_CREDENTIALS'] = './google_cred.json'"
   ]
  },
  {
   "cell_type": "code",
   "execution_count": 3,
   "metadata": {},
   "outputs": [],
   "source": [
    "client = bigquery.Client()"
   ]
  },
  {
   "cell_type": "code",
   "execution_count": 4,
   "metadata": {},
   "outputs": [],
   "source": [
    "query = \"\"\"\n",
    "SELECT \t\n",
    "\ttournament\n",
    ",\ttournament_type\n",
    ",   team_basket\n",
    ",\taway_name\n",
    ",\thome_name\n",
    ",\tperiod\n",
    ",\telapsed_time_sec\n",
    ",\tteam_name\n",
    ",\tevent_coord_x\n",
    ",\tevent_coord_y\n",
    ",\tevent_type\n",
    ",\tshot_made\n",
    ",\tshot_type\n",
    ",\tshot_subtype\n",
    ",\tpoints_scored\n",
    ",   three_point_shot\n",
    "\n",
    "\n",
    "FROM `bigquery-public-data.ncaa_basketball.mbb_pbp_sr` \n",
    "WHERE event_type IN (\n",
    "\"twopointmade\",\n",
    "\"threepointmade\",\n",
    "\"twopointmiss\",\n",
    "\"threepointmiss\"\n",
    ")\n",
    "AND season = 2017\n",
    "limit 1000000\n",
    "\"\"\""
   ]
  },
  {
   "cell_type": "code",
   "execution_count": 5,
   "metadata": {},
   "outputs": [],
   "source": [
    "df = client.query(query).to_dataframe()\n"
   ]
  },
  {
   "cell_type": "code",
   "execution_count": 6,
   "metadata": {},
   "outputs": [],
   "source": [
    "import seaborn as sns\n",
    "import pandas as pd\n",
    "import numpy as np\n",
    "from statsmodels.api import OLS"
   ]
  },
  {
   "cell_type": "code",
   "execution_count": 7,
   "metadata": {},
   "outputs": [],
   "source": [
    "\n",
    "df = pd.get_dummies(df, columns=['shot_type'])\n",
    "df = pd.get_dummies(df, columns=['shot_subtype'])\n",
    "df = pd.get_dummies(df, columns=['shot_made'])\n",
    "df = pd.get_dummies(df, columns=['three_point_shot'])\n"
   ]
  },
  {
   "cell_type": "code",
   "execution_count": null,
   "metadata": {},
   "outputs": [],
   "source": []
  },
  {
   "cell_type": "code",
   "execution_count": 8,
   "metadata": {},
   "outputs": [],
   "source": [
    "\n",
    "df = df.rename({\n",
    "    \"shot_type_jump shot\":\"shot_type_jump_shot\",\n",
    "    'shot_type_hook shot':'shot_type_hook_shot',\n",
    "    'shot_type_tip shot': 'shot_type_tip_shot',\n",
    "    'shot_subtype_alley-oop' : 'shot_subtype_alley_oop',\n",
    "    'shot_subtype_finger roll': \"shot_subtype_finger_roll\",\n",
    "    \"shot_subtype_step back\" : \"shot_subtype_step_back\"\n",
    "},axis=1)"
   ]
  },
  {
   "cell_type": "code",
   "execution_count": 9,
   "metadata": {},
   "outputs": [],
   "source": [
    "import math\n",
    "\n",
    "# We know that the y is a measure in inches from the \"top sideline\"\n",
    "# and x is a measure in inches from the \"left baseline\".\n",
    "# Min/max coord values taken from dataset description in BigQuery\n",
    "# We can infer that the basket is placed in the middle of the y axis on either side of the court.\n",
    "basket_left = [0,300]\n",
    "basket_right = [1128,300]\n",
    "\n",
    "df['event_coords'] = df[['event_coord_x', 'event_coord_y']].values.tolist()\n",
    "\n",
    "df['shooting_basket_location'] = [\n",
    "    basket_right if x == 'right' \n",
    "    else basket_left \n",
    "    for x in df['team_basket']\n",
    "]\n",
    "\n",
    "event_coord = pd.DataFrame(df[\"event_coords\"].tolist())\n",
    "basket_coord = pd.DataFrame(df[\"shooting_basket_location\"].tolist())\n",
    "\n",
    "df[\"shot_distance\"] =  np.sqrt((basket_coord[0] - event_coord[0])**2 + (basket_coord[1] - event_coord[1])**2)"
   ]
  },
  {
   "cell_type": "code",
   "execution_count": 10,
   "metadata": {
    "scrolled": true
   },
   "outputs": [],
   "source": [
    "X = df[[\n",
    "     'shot_distance',\n",
    "     #'points_scored',\n",
    "     'three_point_shot_True',\n",
    "     'shot_type_dunk',\n",
    "     'shot_type_hook_shot',\n",
    "     'shot_type_jump_shot',\n",
    "     'shot_type_layup',\n",
    "     'shot_type_tip_shot',\n",
    "     'shot_subtype_alley_oop',\n",
    "     'shot_subtype_driving',\n",
    "     'shot_subtype_fadeaway',\n",
    "     'shot_subtype_finger_roll',\n",
    "     'shot_subtype_floating',\n",
    "     'shot_subtype_pullup',\n",
    "     'shot_subtype_putback',\n",
    "     'shot_subtype_reverse',\n",
    "     'shot_subtype_step_back',\n",
    "     'shot_subtype_turnaround']]\n",
    "\n",
    "y = df['shot_made_True']\n"
   ]
  },
  {
   "cell_type": "code",
   "execution_count": 11,
   "metadata": {
    "scrolled": false
   },
   "outputs": [
    {
     "data": {
      "text/html": [
       "<table class=\"simpletable\">\n",
       "<caption>OLS Regression Results</caption>\n",
       "<tr>\n",
       "  <th>Dep. Variable:</th>     <td>shot_made_True</td>  <th>  R-squared:         </th>  <td>   0.087</td>  \n",
       "</tr>\n",
       "<tr>\n",
       "  <th>Model:</th>                   <td>OLS</td>       <th>  Adj. R-squared:    </th>  <td>   0.087</td>  \n",
       "</tr>\n",
       "<tr>\n",
       "  <th>Method:</th>             <td>Least Squares</td>  <th>  F-statistic:       </th>  <td>   1562.</td>  \n",
       "</tr>\n",
       "<tr>\n",
       "  <th>Date:</th>             <td>Thu, 01 Oct 2020</td> <th>  Prob (F-statistic):</th>   <td>  0.00</td>   \n",
       "</tr>\n",
       "<tr>\n",
       "  <th>Time:</th>                 <td>17:08:40</td>     <th>  Log-Likelihood:    </th> <td>-1.7594e+05</td>\n",
       "</tr>\n",
       "<tr>\n",
       "  <th>No. Observations:</th>      <td>261175</td>      <th>  AIC:               </th>  <td>3.519e+05</td> \n",
       "</tr>\n",
       "<tr>\n",
       "  <th>Df Residuals:</th>          <td>261158</td>      <th>  BIC:               </th>  <td>3.521e+05</td> \n",
       "</tr>\n",
       "<tr>\n",
       "  <th>Df Model:</th>              <td>    16</td>      <th>                     </th>      <td> </td>     \n",
       "</tr>\n",
       "<tr>\n",
       "  <th>Covariance Type:</th>      <td>nonrobust</td>    <th>                     </th>      <td> </td>     \n",
       "</tr>\n",
       "</table>\n",
       "<table class=\"simpletable\">\n",
       "<tr>\n",
       "              <td></td>                <th>coef</th>     <th>std err</th>      <th>t</th>      <th>P>|t|</th>  <th>[0.025</th>    <th>0.975]</th>  \n",
       "</tr>\n",
       "<tr>\n",
       "  <th>shot_distance</th>            <td>   -0.0006</td> <td> 1.85e-05</td> <td>  -32.825</td> <td> 0.000</td> <td>   -0.001</td> <td>   -0.001</td>\n",
       "</tr>\n",
       "<tr>\n",
       "  <th>three_point_shot_True</th>    <td>    0.1041</td> <td>    0.004</td> <td>   29.268</td> <td> 0.000</td> <td>    0.097</td> <td>    0.111</td>\n",
       "</tr>\n",
       "<tr>\n",
       "  <th>shot_type_dunk</th>           <td>    0.9046</td> <td>    0.005</td> <td>  178.453</td> <td> 0.000</td> <td>    0.895</td> <td>    0.915</td>\n",
       "</tr>\n",
       "<tr>\n",
       "  <th>shot_type_hook_shot</th>      <td>    0.5131</td> <td>    0.007</td> <td>   72.028</td> <td> 0.000</td> <td>    0.499</td> <td>    0.527</td>\n",
       "</tr>\n",
       "<tr>\n",
       "  <th>shot_type_jump_shot</th>      <td>    0.4400</td> <td>    0.004</td> <td>  106.347</td> <td> 0.000</td> <td>    0.432</td> <td>    0.448</td>\n",
       "</tr>\n",
       "<tr>\n",
       "  <th>shot_type_layup</th>          <td>    0.5705</td> <td>    0.003</td> <td>  211.865</td> <td> 0.000</td> <td>    0.565</td> <td>    0.576</td>\n",
       "</tr>\n",
       "<tr>\n",
       "  <th>shot_type_tip_shot</th>       <td>    0.6646</td> <td>    0.009</td> <td>   76.407</td> <td> 0.000</td> <td>    0.648</td> <td>    0.682</td>\n",
       "</tr>\n",
       "<tr>\n",
       "  <th>shot_subtype_alley_oop</th>   <td>    0.1306</td> <td>    0.013</td> <td>    9.819</td> <td> 0.000</td> <td>    0.105</td> <td>    0.157</td>\n",
       "</tr>\n",
       "<tr>\n",
       "  <th>shot_subtype_driving</th>     <td>    0.1404</td> <td>    0.004</td> <td>   33.302</td> <td> 0.000</td> <td>    0.132</td> <td>    0.149</td>\n",
       "</tr>\n",
       "<tr>\n",
       "  <th>shot_subtype_fadeaway</th>    <td>    0.1178</td> <td>    0.012</td> <td>    9.430</td> <td> 0.000</td> <td>    0.093</td> <td>    0.142</td>\n",
       "</tr>\n",
       "<tr>\n",
       "  <th>shot_subtype_finger_roll</th> <td>    0.2721</td> <td>    0.016</td> <td>   17.375</td> <td> 0.000</td> <td>    0.241</td> <td>    0.303</td>\n",
       "</tr>\n",
       "<tr>\n",
       "  <th>shot_subtype_floating</th>    <td>    0.1615</td> <td>    0.007</td> <td>   22.903</td> <td> 0.000</td> <td>    0.148</td> <td>    0.175</td>\n",
       "</tr>\n",
       "<tr>\n",
       "  <th>shot_subtype_pullup</th>      <td>    0.2015</td> <td>    0.006</td> <td>   35.979</td> <td> 0.000</td> <td>    0.190</td> <td>    0.212</td>\n",
       "</tr>\n",
       "<tr>\n",
       "  <th>shot_subtype_putback</th>     <td>    0.2285</td> <td>    0.008</td> <td>   30.274</td> <td> 0.000</td> <td>    0.214</td> <td>    0.243</td>\n",
       "</tr>\n",
       "<tr>\n",
       "  <th>shot_subtype_reverse</th>     <td>    0.1823</td> <td>    0.011</td> <td>   16.524</td> <td> 0.000</td> <td>    0.161</td> <td>    0.204</td>\n",
       "</tr>\n",
       "<tr>\n",
       "  <th>shot_subtype_step_back</th>   <td>    0.1682</td> <td>    0.011</td> <td>   15.843</td> <td> 0.000</td> <td>    0.147</td> <td>    0.189</td>\n",
       "</tr>\n",
       "<tr>\n",
       "  <th>shot_subtype_turnaround</th>  <td>    0.1653</td> <td>    0.009</td> <td>   19.307</td> <td> 0.000</td> <td>    0.149</td> <td>    0.182</td>\n",
       "</tr>\n",
       "</table>\n",
       "<table class=\"simpletable\">\n",
       "<tr>\n",
       "  <th>Omnibus:</th>       <td>1233090.854</td> <th>  Durbin-Watson:     </th> <td>   0.124</td> \n",
       "</tr>\n",
       "<tr>\n",
       "  <th>Prob(Omnibus):</th>   <td> 0.000</td>    <th>  Jarque-Bera (JB):  </th> <td>32073.370</td>\n",
       "</tr>\n",
       "<tr>\n",
       "  <th>Skew:</th>            <td> 0.275</td>    <th>  Prob(JB):          </th> <td>    0.00</td> \n",
       "</tr>\n",
       "<tr>\n",
       "  <th>Kurtosis:</th>        <td> 1.374</td>    <th>  Cond. No.          </th> <td>3.99e+03</td> \n",
       "</tr>\n",
       "</table><br/><br/>Warnings:<br/>[1] Standard Errors assume that the covariance matrix of the errors is correctly specified.<br/>[2] The condition number is large, 3.99e+03. This might indicate that there are<br/>strong multicollinearity or other numerical problems."
      ],
      "text/plain": [
       "<class 'statsmodels.iolib.summary.Summary'>\n",
       "\"\"\"\n",
       "                            OLS Regression Results                            \n",
       "==============================================================================\n",
       "Dep. Variable:         shot_made_True   R-squared:                       0.087\n",
       "Model:                            OLS   Adj. R-squared:                  0.087\n",
       "Method:                 Least Squares   F-statistic:                     1562.\n",
       "Date:                Thu, 01 Oct 2020   Prob (F-statistic):               0.00\n",
       "Time:                        17:08:40   Log-Likelihood:            -1.7594e+05\n",
       "No. Observations:              261175   AIC:                         3.519e+05\n",
       "Df Residuals:                  261158   BIC:                         3.521e+05\n",
       "Df Model:                          16                                         \n",
       "Covariance Type:            nonrobust                                         \n",
       "============================================================================================\n",
       "                               coef    std err          t      P>|t|      [0.025      0.975]\n",
       "--------------------------------------------------------------------------------------------\n",
       "shot_distance               -0.0006   1.85e-05    -32.825      0.000      -0.001      -0.001\n",
       "three_point_shot_True        0.1041      0.004     29.268      0.000       0.097       0.111\n",
       "shot_type_dunk               0.9046      0.005    178.453      0.000       0.895       0.915\n",
       "shot_type_hook_shot          0.5131      0.007     72.028      0.000       0.499       0.527\n",
       "shot_type_jump_shot          0.4400      0.004    106.347      0.000       0.432       0.448\n",
       "shot_type_layup              0.5705      0.003    211.865      0.000       0.565       0.576\n",
       "shot_type_tip_shot           0.6646      0.009     76.407      0.000       0.648       0.682\n",
       "shot_subtype_alley_oop       0.1306      0.013      9.819      0.000       0.105       0.157\n",
       "shot_subtype_driving         0.1404      0.004     33.302      0.000       0.132       0.149\n",
       "shot_subtype_fadeaway        0.1178      0.012      9.430      0.000       0.093       0.142\n",
       "shot_subtype_finger_roll     0.2721      0.016     17.375      0.000       0.241       0.303\n",
       "shot_subtype_floating        0.1615      0.007     22.903      0.000       0.148       0.175\n",
       "shot_subtype_pullup          0.2015      0.006     35.979      0.000       0.190       0.212\n",
       "shot_subtype_putback         0.2285      0.008     30.274      0.000       0.214       0.243\n",
       "shot_subtype_reverse         0.1823      0.011     16.524      0.000       0.161       0.204\n",
       "shot_subtype_step_back       0.1682      0.011     15.843      0.000       0.147       0.189\n",
       "shot_subtype_turnaround      0.1653      0.009     19.307      0.000       0.149       0.182\n",
       "==============================================================================\n",
       "Omnibus:                  1233090.854   Durbin-Watson:                   0.124\n",
       "Prob(Omnibus):                  0.000   Jarque-Bera (JB):            32073.370\n",
       "Skew:                           0.275   Prob(JB):                         0.00\n",
       "Kurtosis:                       1.374   Cond. No.                     3.99e+03\n",
       "==============================================================================\n",
       "\n",
       "Warnings:\n",
       "[1] Standard Errors assume that the covariance matrix of the errors is correctly specified.\n",
       "[2] The condition number is large, 3.99e+03. This might indicate that there are\n",
       "strong multicollinearity or other numerical problems.\n",
       "\"\"\""
      ]
     },
     "execution_count": 11,
     "metadata": {},
     "output_type": "execute_result"
    }
   ],
   "source": [
    "results = OLS(y,X).fit()\n",
    "results.summary()"
   ]
  },
  {
   "cell_type": "code",
   "execution_count": 12,
   "metadata": {},
   "outputs": [
    {
     "data": {
      "image/png": "[encoded data removed]",
      "text/plain": [
       "<Figure size 1692x900 with 1 Axes>"
      ]
     },
     "metadata": {
      "needs_background": "light"
     },
     "output_type": "display_data"
    }
   ],
   "source": [
    "import matplotlib.pyplot as plt\n",
    "df_made = df[df['shot_made_False'] == 1]\n",
    "plt.figure(figsize=(23.5, 12.5))\n",
    "plt.scatter(df_made[\"event_coord_x\"], df_made[\"event_coord_y\"])\n",
    "plt.show()"
   ]
  },
  {
   "cell_type": "markdown",
   "metadata": {},
   "source": [
    "<h1>Model Testing</h1>"
   ]
  },
  {
   "cell_type": "markdown",
   "metadata": {},
   "source": [
    "<h3>Final Data Prep</h3>"
   ]
  },
  {
   "cell_type": "code",
   "execution_count": 13,
   "metadata": {},
   "outputs": [
    {
     "name": "stderr",
     "output_type": "stream",
     "text": [
      "<ipython-input-13-4f8d921f128d>:12: SettingWithCopyWarning: \n",
      "A value is trying to be set on a copy of a slice from a DataFrame.\n",
      "Try using .loc[row_indexer,col_indexer] = value instead\n",
      "\n",
      "See the caveats in the documentation: https://pandas.pydata.org/pandas-docs/stable/user_guide/indexing.html#returning-a-view-versus-a-copy\n",
      "  X_train[[\"shot_distance\"]] = scaler.transform(X_train[[\"shot_distance\"]])\n",
      "C:\\Users\\NicholasMazzotta\\anaconda3\\lib\\site-packages\\pandas\\core\\indexing.py:966: SettingWithCopyWarning: \n",
      "A value is trying to be set on a copy of a slice from a DataFrame.\n",
      "Try using .loc[row_indexer,col_indexer] = value instead\n",
      "\n",
      "See the caveats in the documentation: https://pandas.pydata.org/pandas-docs/stable/user_guide/indexing.html#returning-a-view-versus-a-copy\n",
      "  self.obj[item] = s\n",
      "<ipython-input-13-4f8d921f128d>:13: SettingWithCopyWarning: \n",
      "A value is trying to be set on a copy of a slice from a DataFrame.\n",
      "Try using .loc[row_indexer,col_indexer] = value instead\n",
      "\n",
      "See the caveats in the documentation: https://pandas.pydata.org/pandas-docs/stable/user_guide/indexing.html#returning-a-view-versus-a-copy\n",
      "  X_test[[\"shot_distance\"]] = scaler.transform(X_test[[\"shot_distance\"]])\n",
      "C:\\Users\\NicholasMazzotta\\anaconda3\\lib\\site-packages\\pandas\\core\\indexing.py:966: SettingWithCopyWarning: \n",
      "A value is trying to be set on a copy of a slice from a DataFrame.\n",
      "Try using .loc[row_indexer,col_indexer] = value instead\n",
      "\n",
      "See the caveats in the documentation: https://pandas.pydata.org/pandas-docs/stable/user_guide/indexing.html#returning-a-view-versus-a-copy\n",
      "  self.obj[item] = s\n"
     ]
    }
   ],
   "source": [
    "from sklearn.ensemble import RandomForestClassifier\n",
    "from sklearn import metrics\n",
    "from sklearn.preprocessing import MinMaxScaler\n",
    "\n",
    "\n",
    "# Split data into train-test sets\n",
    "X_train, X_test, y_train, y_test = train_test_split(X, y, test_size=0.2, random_state=0)\n",
    "\n",
    "# Scale the x,y shot coordinates\n",
    "scaler = MinMaxScaler()\n",
    "scaler.fit(X_train[[\"shot_distance\"]])\n",
    "X_train[[\"shot_distance\"]] = scaler.transform(X_train[[\"shot_distance\"]])\n",
    "X_test[[\"shot_distance\"]] = scaler.transform(X_test[[\"shot_distance\"]])\n",
    "\n"
   ]
  },
  {
   "cell_type": "markdown",
   "metadata": {},
   "source": [
    "<h3>Random Forest Classifier</h3>"
   ]
  },
  {
   "cell_type": "code",
   "execution_count": 14,
   "metadata": {},
   "outputs": [],
   "source": [
    "# Fit random forest classifier\n",
    "classifier = RandomForestClassifier(n_estimators=200, random_state=0)\n",
    "classifier.fit(X_train, y_train)\n",
    "y_pred = classifier.predict(X_test)"
   ]
  },
  {
   "cell_type": "code",
   "execution_count": 15,
   "metadata": {},
   "outputs": [],
   "source": [
    "from sklearn.metrics import classification_report, confusion_matrix, accuracy_score\n"
   ]
  },
  {
   "cell_type": "code",
   "execution_count": 16,
   "metadata": {},
   "outputs": [
    {
     "name": "stdout",
     "output_type": "stream",
     "text": [
      "              precision    recall  f1-score   support\n",
      "\n",
      "           0       0.62      0.67      0.65     29070\n",
      "           1       0.54      0.49      0.52     23165\n",
      "\n",
      "    accuracy                           0.59     52235\n",
      "   macro avg       0.58      0.58      0.58     52235\n",
      "weighted avg       0.59      0.59      0.59     52235\n",
      " \n",
      "Accuracy:\n",
      "0.5919977026897674 \n",
      "\n",
      "Confusion matrix\n",
      " [[19536  9534]\n",
      " [11778 11387]]\n"
     ]
    }
   ],
   "source": [
    "print(classification_report(y_test,y_pred),\n",
    "      \"\\nAccuracy:\\n\" + str(metrics.accuracy_score(y_test, y_pred)),\n",
    "      \"\\n\\nConfusion matrix\\n\", str(confusion_matrix(y_test,y_pred))\n",
    "     )"
   ]
  },
  {
   "cell_type": "markdown",
   "metadata": {},
   "source": [
    "<h3>Logistic Regression</h3>"
   ]
  },
  {
   "cell_type": "code",
   "execution_count": 17,
   "metadata": {},
   "outputs": [],
   "source": [
    "lr = LogisticRegression()\n",
    "\n",
    "result = lr.fit(X_train,y_train)\n",
    "y_pred_lr = lr.predict(X_test)"
   ]
  },
  {
   "cell_type": "code",
   "execution_count": 18,
   "metadata": {
    "scrolled": true
   },
   "outputs": [
    {
     "name": "stdout",
     "output_type": "stream",
     "text": [
      "              precision    recall  f1-score   support\n",
      "\n",
      "           0       0.65      0.78      0.71     29070\n",
      "           1       0.63      0.47      0.54     23165\n",
      "\n",
      "    accuracy                           0.64     52235\n",
      "   macro avg       0.64      0.63      0.63     52235\n",
      "weighted avg       0.64      0.64      0.64     52235\n",
      " \n",
      "Accuracy:\n",
      "0.6447401167799368 \n",
      "\n",
      "Confusion matrix\n",
      " [[22705  6365]\n",
      " [12192 10973]]\n"
     ]
    }
   ],
   "source": [
    "print(classification_report(y_test,y_pred_lr),\n",
    "      \"\\nAccuracy:\\n\" + str(metrics.accuracy_score(y_test, y_pred_lr)),\n",
    "      \"\\n\\nConfusion matrix\\n\", str(confusion_matrix(y_test,y_pred_lr))\n",
    "     )"
   ]
  },
  {
   "cell_type": "markdown",
   "metadata": {},
   "source": [
    "<h3>Mutilayer Percepton (Neural Network)</h3>"
   ]
  },
  {
   "cell_type": "code",
   "execution_count": 19,
   "metadata": {},
   "outputs": [],
   "source": [
    "from sklearn.neural_network import MLPClassifier\n",
    "mlp = MLPClassifier(hidden_layer_sizes=(10, 10, 10), max_iter=1000)\n",
    "mlp.fit(X_train, y_train.values.ravel())\n",
    "y_pred_mlp = mlp.predict(X_test)"
   ]
  },
  {
   "cell_type": "code",
   "execution_count": 20,
   "metadata": {},
   "outputs": [
    {
     "name": "stdout",
     "output_type": "stream",
     "text": [
      "              precision    recall  f1-score   support\n",
      "\n",
      "           0       0.65      0.79      0.71     29070\n",
      "           1       0.64      0.46      0.54     23165\n",
      "\n",
      "    accuracy                           0.64     52235\n",
      "   macro avg       0.64      0.63      0.62     52235\n",
      "weighted avg       0.64      0.64      0.63     52235\n",
      " \n",
      "Accuracy:\n",
      "0.6443380874892314 \n",
      "\n",
      "Confusion matrix\n",
      " [[22950  6120]\n",
      " [12458 10707]]\n"
     ]
    }
   ],
   "source": [
    "print(classification_report(y_test,y_pred_mlp),\n",
    "      \"\\nAccuracy:\\n\" + str(metrics.accuracy_score(y_test, y_pred_mlp)),\n",
    "      \"\\n\\nConfusion matrix\\n\", str(confusion_matrix(y_test,y_pred_mlp))\n",
    "     )"
   ]
  },
  {
   "cell_type": "markdown",
   "metadata": {},
   "source": [
    "<h3>Gradient Boost</h3>"
   ]
  },
  {
   "cell_type": "code",
   "execution_count": 21,
   "metadata": {},
   "outputs": [],
   "source": [
    "import xgboost as xgb"
   ]
  },
  {
   "cell_type": "code",
   "execution_count": 22,
   "metadata": {},
   "outputs": [],
   "source": [
    "# !pip install xgboost\n",
    "\n",
    "xgb_class = xgb.XGBClassifier(\n",
    "    n_estimators = 1,\n",
    "    max_depth = 3,\n",
    "    learning_rate = 0.00001\n",
    ")\n",
    "xgb_class.fit(X_train,y_train)\n",
    "y_pred = xgb_class.predict(X_test)\n",
    "y_pred_xgb = [round(value) for value in y_pred]"
   ]
  },
  {
   "cell_type": "code",
   "execution_count": 23,
   "metadata": {
    "scrolled": true
   },
   "outputs": [
    {
     "name": "stdout",
     "output_type": "stream",
     "text": [
      "              precision    recall  f1-score   support\n",
      "\n",
      "           0       0.64      0.78      0.71     29070\n",
      "           1       0.62      0.46      0.53     23165\n",
      "\n",
      "    accuracy                           0.64     52235\n",
      "   macro avg       0.63      0.62      0.62     52235\n",
      "weighted avg       0.64      0.64      0.63     52235\n",
      " \n",
      "Accuracy XGB:\n",
      "0.6378673303340672 \n",
      "\n",
      "Confusion matrix\n",
      " [[22613  6457]\n",
      " [12459 10706]]\n"
     ]
    }
   ],
   "source": [
    "print(classification_report(y_test,y_pred_xgb),\n",
    "      \"\\nAccuracy XGB:\\n\" + str(metrics.accuracy_score(y_test, y_pred_xgb)),\n",
    "      \"\\n\\nConfusion matrix\\n\", str(confusion_matrix(y_test,y_pred_xgb))\n",
    "     )"
   ]
  },
  {
   "cell_type": "markdown",
   "metadata": {},
   "source": [
    "<h3>K-Nearest Neighbors</h3>"
   ]
  },
  {
   "cell_type": "code",
   "execution_count": 24,
   "metadata": {},
   "outputs": [],
   "source": [
    "from sklearn.neighbors import KNeighborsClassifier"
   ]
  },
  {
   "cell_type": "code",
   "execution_count": null,
   "metadata": {},
   "outputs": [],
   "source": []
  },
  {
   "cell_type": "code",
   "execution_count": 25,
   "metadata": {},
   "outputs": [],
   "source": [
    "## Checking for best K value\n",
    "# k_values = pd.DataFrame(columns=[\"accuracy\"])\n",
    "\n",
    "# error_rate = []\n",
    "\n",
    "# for i in range(340,351):\n",
    "#     knn = KNeighborsClassifier(n_neighbors=i)\n",
    "#     knn.fit(X_train, y_train)\n",
    "#     y_pred_knn = knn.predict(X_test)\n",
    "#     error_rate.append(metrics.accuracy_score(y_test, y_pred_knn))\n",
    "\n",
    "# plt.figure(figsize=(15,10))\n",
    "# plt.plot(range(340,351),error_rate, marker='o', markersize=9)\n",
    "\n"
   ]
  },
  {
   "cell_type": "code",
   "execution_count": 26,
   "metadata": {},
   "outputs": [
    {
     "name": "stdout",
     "output_type": "stream",
     "text": [
      "              precision    recall  f1-score   support\n",
      "\n",
      "           0       0.64      0.81      0.72     29070\n",
      "           1       0.65      0.43      0.52     23165\n",
      "\n",
      "    accuracy                           0.64     52235\n",
      "   macro avg       0.64      0.62      0.62     52235\n",
      "weighted avg       0.64      0.64      0.63     52235\n",
      " \n",
      "Accuracy XGB:\n",
      "0.6432851536326218 \n",
      "\n",
      "Confusion matrix\n",
      " [[23573  5497]\n",
      " [13136 10029]]\n"
     ]
    }
   ],
   "source": [
    "knn = KNeighborsClassifier(n_neighbors=346)\n",
    "knn.fit(X_train, y_train)\n",
    "y_pred_knn = knn.predict(X_test)\n",
    "print(classification_report(y_test,y_pred_knn),\n",
    "      \"\\nAccuracy XGB:\\n\" + str(metrics.accuracy_score(y_test, y_pred_knn)),\n",
    "      \"\\n\\nConfusion matrix\\n\", str(confusion_matrix(y_test,y_pred_knn))\n",
    "     )\n",
    "# error_rate.append(metrics.accuracy_score(y_test, y_pred_knn))"
   ]
  },
  {
   "cell_type": "markdown",
   "metadata": {},
   "source": [
    "<h3>Support Vector Classifier</h3>"
   ]
  },
  {
   "cell_type": "code",
   "execution_count": null,
   "metadata": {},
   "outputs": [
    {
     "name": "stdout",
     "output_type": "stream",
     "text": [
      "[LibSVM]"
     ]
    }
   ],
   "source": [
    "# from sklearn.svm import SVC # \"Support vector classifier\"\n",
    "# model = SVC(verbose=True)\n",
    "# model.fit(X_train, y_train)\n",
    "# y_pred_svc = model.predict(X_test)"
   ]
  },
  {
   "cell_type": "code",
   "execution_count": null,
   "metadata": {},
   "outputs": [],
   "source": [
    "# print(classification_report(y_test,y_pred_svc),\n",
    "#       \"\\nAccuracy:\\n\" + str(metrics.accuracy_score(y_test, y_pred_svc)),\n",
    "#       \"\\n\\nConfusion matrix\\n\", str(confusion_matrix(y_test,y_pred_svc))\n",
    "#      )"
   ]
  },
  {
   "cell_type": "code",
   "execution_count": null,
   "metadata": {},
   "outputs": [],
   "source": []
  },
  {
   "cell_type": "code",
   "execution_count": null,
   "metadata": {},
   "outputs": [],
   "source": []
  },
  {
   "cell_type": "code",
   "execution_count": null,
   "metadata": {},
   "outputs": [],
   "source": []
  },
  {
   "cell_type": "code",
   "execution_count": null,
   "metadata": {},
   "outputs": [],
   "source": [
    "https://www.jphwang.com/nba-shot-data-analytics-visualization-with-python-pandas-and-matplotlib-part-2-grouping-data-by-area/"
   ]
  },
  {
   "cell_type": "code",
   "execution_count": null,
   "metadata": {},
   "outputs": [],
   "source": [
    "X_train"
   ]
  },
  {
   "cell_type": "code",
   "execution_count": null,
   "metadata": {},
   "outputs": [],
   "source": [
    "df"
   ]
  },
  {
   "cell_type": "code",
   "execution_count": null,
   "metadata": {},
   "outputs": [],
   "source": []
  },
  {
   "cell_type": "code",
   "execution_count": null,
   "metadata": {},
   "outputs": [],
   "source": []
  },
  {
   "cell_type": "code",
   "execution_count": null,
   "metadata": {},
   "outputs": [],
   "source": []
  },
  {
   "cell_type": "code",
   "execution_count": null,
   "metadata": {},
   "outputs": [],
   "source": []
  },
  {
   "cell_type": "code",
   "execution_count": null,
   "metadata": {},
   "outputs": [],
   "source": []
  }
 ],
 "metadata": {
  "kernelspec": {
   "display_name": "Python 3",
   "language": "python",
   "name": "python3"
  },
  "language_info": {
   "codemirror_mode": {
    "name": "ipython",
    "version": 3
   },
   "file_extension": ".py",
   "mimetype": "text/x-python",
   "name": "python",
   "nbconvert_exporter": "python",
   "pygments_lexer": "ipython3",
   "version": "3.8.3"
  }
 },
 "nbformat": 4,
 "nbformat_minor": 4
}
